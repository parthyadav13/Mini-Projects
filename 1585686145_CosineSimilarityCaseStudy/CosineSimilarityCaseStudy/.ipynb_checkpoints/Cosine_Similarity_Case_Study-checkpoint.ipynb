{
 "cells": [
  {
   "cell_type": "markdown",
   "metadata": {
    "colab_type": "text",
    "id": "eNSkSfKvSXEE"
   },
   "source": [
    "## Cosine Similarity Calculations\n",
    "Cosine similarity is a measure of similarity between two non-zero vectors of an inner product space that measures the cosine of the angle between them. Similarity measures have a multiude of uses in machine learning projects; they come in handy when matching strings, measuring distance, and extracting features. This similarity measurement is particularly concerned with orientation, rather than magnitude. \n",
    "In this case study, you'll use the cosine similarity to compare both a numeric data within a plane and a text dataset for string matching."
   ]
  },
  {
   "cell_type": "markdown",
   "metadata": {
    "colab_type": "text",
    "id": "USGZdZYoVu7A"
   },
   "source": [
    "Load the Python modules, including cosine_similarity, from sklearn.metrics.pairwise"
   ]
  },
  {
   "cell_type": "code",
   "execution_count": 55,
   "metadata": {
    "colab": {},
    "colab_type": "code",
    "id": "_T-FTjWuSXEF"
   },
   "outputs": [],
   "source": [
    "import numpy as np\n",
    "import pandas as pd\n",
    "import matplotlib.pyplot as plt\n",
    "import matplotlib.cm as cm\n",
    "%matplotlib inline\n",
    "plt.style.use('ggplot')\n",
    "from scipy import spatial\n",
    "from sklearn.metrics.pairwise import cosine_similarity"
   ]
  },
  {
   "cell_type": "markdown",
   "metadata": {
    "colab_type": "text",
    "id": "woBv3-cmV1R6"
   },
   "source": [
    "**<font color='teal'> Load the distance dataset into a dataframe. </font>**"
   ]
  },
  {
   "cell_type": "code",
   "execution_count": 56,
   "metadata": {
    "colab": {},
    "colab_type": "code",
    "id": "irpsaCuGSXEK"
   },
   "outputs": [
    {
     "data": {
      "text/html": [
       "<div>\n",
       "<style scoped>\n",
       "    .dataframe tbody tr th:only-of-type {\n",
       "        vertical-align: middle;\n",
       "    }\n",
       "\n",
       "    .dataframe tbody tr th {\n",
       "        vertical-align: top;\n",
       "    }\n",
       "\n",
       "    .dataframe thead th {\n",
       "        text-align: right;\n",
       "    }\n",
       "</style>\n",
       "<table border=\"1\" class=\"dataframe\">\n",
       "  <thead>\n",
       "    <tr style=\"text-align: right;\">\n",
       "      <th></th>\n",
       "      <th>Unnamed: 0</th>\n",
       "      <th>X</th>\n",
       "      <th>Y</th>\n",
       "      <th>Z</th>\n",
       "      <th>ClusterID</th>\n",
       "    </tr>\n",
       "  </thead>\n",
       "  <tbody>\n",
       "    <tr>\n",
       "      <th>0</th>\n",
       "      <td>0</td>\n",
       "      <td>5.135779</td>\n",
       "      <td>4.167542</td>\n",
       "      <td>5.787635</td>\n",
       "      <td>4</td>\n",
       "    </tr>\n",
       "    <tr>\n",
       "      <th>1</th>\n",
       "      <td>1</td>\n",
       "      <td>4.280721</td>\n",
       "      <td>5.770909</td>\n",
       "      <td>6.091044</td>\n",
       "      <td>4</td>\n",
       "    </tr>\n",
       "    <tr>\n",
       "      <th>2</th>\n",
       "      <td>2</td>\n",
       "      <td>8.329098</td>\n",
       "      <td>7.540436</td>\n",
       "      <td>3.247239</td>\n",
       "      <td>2</td>\n",
       "    </tr>\n",
       "    <tr>\n",
       "      <th>3</th>\n",
       "      <td>3</td>\n",
       "      <td>5.470224</td>\n",
       "      <td>5.069249</td>\n",
       "      <td>5.768313</td>\n",
       "      <td>4</td>\n",
       "    </tr>\n",
       "    <tr>\n",
       "      <th>4</th>\n",
       "      <td>4</td>\n",
       "      <td>2.381797</td>\n",
       "      <td>2.402374</td>\n",
       "      <td>3.879101</td>\n",
       "      <td>1</td>\n",
       "    </tr>\n",
       "  </tbody>\n",
       "</table>\n",
       "</div>"
      ],
      "text/plain": [
       "   Unnamed: 0         X         Y         Z  ClusterID\n",
       "0           0  5.135779  4.167542  5.787635          4\n",
       "1           1  4.280721  5.770909  6.091044          4\n",
       "2           2  8.329098  7.540436  3.247239          2\n",
       "3           3  5.470224  5.069249  5.768313          4\n",
       "4           4  2.381797  2.402374  3.879101          1"
      ]
     },
     "execution_count": 56,
     "metadata": {},
     "output_type": "execute_result"
    }
   ],
   "source": [
    "df=pd.read_csv('distance_dataset (1).csv')\n",
    "df.head()\n"
   ]
  },
  {
   "cell_type": "markdown",
   "metadata": {
    "colab_type": "text",
    "id": "WWd4xbk1SXEO"
   },
   "source": [
    "### Cosine Similarity with clusters and numeric matrices\n",
    "\n",
    "All points in our dataset can be thought of as feature vectors. We illustrate it here as we display the __Cosine Similarity__ between each feature vector in the YZ plane and the [5, 5] vector we chose as reference. The sklearn.metrics.pairwise module provides an efficient way to compute the __cosine_similarity__ for large arrays from which we can compute the similarity."
   ]
  },
  {
   "cell_type": "markdown",
   "metadata": {
    "colab_type": "text",
    "id": "NeRvhNjLWaau"
   },
   "source": [
    " **<font color='teal'> First, create a 2D and a 3D matrix from the dataframe. The 2D matrix should contain the 'Y' and 'Z' columns and the 3D matrix should contain the 'X','Y', and 'Z' columns.</font>**"
   ]
  },
  {
   "cell_type": "code",
   "execution_count": 57,
   "metadata": {
    "colab": {},
    "colab_type": "code",
    "id": "aWkrVP8dWqZ-"
   },
   "outputs": [],
   "source": [
    "matYZ=[df.Y,df.Z]\n",
    "mat=[df.X,df.Y,df.Z]\n",
    "mat=np.array(mat)\n",
    "matYZ=np.array(matYZ)"
   ]
  },
  {
   "cell_type": "markdown",
   "metadata": {
    "colab_type": "text",
    "id": "HlRZpDfzXJR9"
   },
   "source": [
    "Calculate the cosine similarity for those matrices with reference planes of 5,5 and 5,5,5. Then subtract those measures from 1 in new features."
   ]
  },
  {
   "cell_type": "code",
   "execution_count": 58,
   "metadata": {
    "colab": {},
    "colab_type": "code",
    "id": "QmKPcdIjSXEP"
   },
   "outputs": [
    {
     "name": "stdout",
     "output_type": "stream",
     "text": [
      "[[0.06789611 0.06789611]\n",
      " [0.06837847 0.06837847]]\n",
      "[[0.06733205 0.06733205 0.06733205]\n",
      " [0.06789611 0.06789611 0.06789611]\n",
      " [0.06837847 0.06837847 0.06837847]]\n"
     ]
    }
   ],
   "source": [
    "matOf5=np.full((2, 2000), 5)\n",
    "matOf53=np.full((3, 2000), 5)\n",
    "mat555=[[5,5,5]]\n",
    "mat55=[[5,5]]\n",
    "simCosine3D =1- cosine_similarity(mat, matOf53,'cosine')\n",
    "simCosine =1- cosine_similarity(matYZ, matOf5,'cosine')\n",
    "print(simCosine)\n",
    "print(simCosine3D)"
   ]
  },
  {
   "cell_type": "markdown",
   "metadata": {
    "colab_type": "text",
    "id": "EieVXBAcX0OU"
   },
   "source": [
    "Using the 2D matrix and the reference plane of (5,5) we can use a scatter plot to view the way the similarity is calculated using the Cosine angle."
   ]
  },
  {
   "cell_type": "code",
   "execution_count": 59,
   "metadata": {
    "colab": {},
    "colab_type": "code",
    "id": "Oga4-0A6SXEY"
   },
   "outputs": [
    {
     "data": {
      "image/png": "[encoded data removed]",
      "text/plain": [
       "<Figure size 720x576 with 2 Axes>"
      ]
     },
     "metadata": {},
     "output_type": "display_data"
    }
   ],
   "source": [
    "figCosine = plt.figure(figsize=[10,8])\n",
    "\n",
    "plt.scatter(df.Y, df.Z, s=20)\n",
    "plt.plot([0,5],[0,5], '--', color='dimgray')\n",
    "plt.plot([0,3],[0,7.2], '--', color='dimgray')\n",
    "plt.text(0.7,2.6,r'$\\theta$ = 22.4 deg.', rotation=47, size=14)\n",
    "plt.ylim([0,10])\n",
    "plt.xlim([0,10])\n",
    "plt.xlabel('Y', size=14)\n",
    "plt.ylabel('Z', size=14)\n",
    "plt.title('Cosine Similarity')\n",
    "cb = plt.colorbar()\n",
    "cb.set_label('Similarity with (5,5)', size=14)\n",
    "\n",
    "figCosine.savefig('similarity-cosine.png')"
   ]
  },
  {
   "cell_type": "markdown",
   "metadata": {
    "colab_type": "text",
    "id": "h5EERbkYXioh"
   },
   "source": [
    "Now, plot the 3D matrix with the similarity and the reference plane, (5,5,5)."
   ]
  },
  {
   "cell_type": "code",
   "execution_count": 60,
   "metadata": {},
   "outputs": [
    {
     "name": "stdout",
     "output_type": "stream",
     "text": [
      "[5.13577939 4.16754224 5.7876354 ]\n"
     ]
    }
   ],
   "source": [
    "print(mat[:,0])"
   ]
  },
  {
   "cell_type": "code",
   "execution_count": 61,
   "metadata": {
    "colab": {},
    "colab_type": "code",
    "id": "-f3ZhgoQSXEV"
   },
   "outputs": [
    {
     "data": {
      "image/png": "[encoded data removed]",
      "text/plain": [
       "<Figure size 720x576 with 2 Axes>"
      ]
     },
     "metadata": {},
     "output_type": "display_data"
    }
   ],
   "source": [
    "from mpl_toolkits.mplot3d import Axes3D\n",
    "figCosine3D = plt.figure(figsize=(10, 8))\n",
    "ax = figCosine3D.add_subplot(111, projection='3d')\n",
    "\n",
    "p = ax.scatter(mat[:,0], mat[:,1], mat[:,2])\n",
    "ax.set_xlabel('X')\n",
    "ax.set_ylabel('Y')\n",
    "ax.set_zlabel('Z')\n",
    "cb = figCosine3D.colorbar(p)\n",
    "cb.set_label('Similarity with (5,5,5)', size=14)\n",
    "                                   \n",
    "figCosine3D.tight_layout()\n",
    "#figCosine3D.savefig('cosine-3D.png', dpi=300, transparent=True)"
   ]
  },
  {
   "cell_type": "markdown",
   "metadata": {
    "colab_type": "text",
    "id": "_ysZ1wFMSXEt"
   },
   "source": [
    "----"
   ]
  },
  {
   "cell_type": "markdown",
   "metadata": {
    "colab_type": "text",
    "id": "jGJ2vr60SXEu"
   },
   "source": [
    "### Cosine Similarity with text data\n",
    "This is a quick example of how you can use Cosine Similarity to compare different text values or names for record matching or other natural language proecessing needs. \n",
    "First, we use count vectorizer to create a vector for each unique word in our Document 0 and Document 1. "
   ]
  },
  {
   "cell_type": "code",
   "execution_count": 62,
   "metadata": {
    "colab": {},
    "colab_type": "code",
    "id": "7oSm7linSXEv"
   },
   "outputs": [
    {
     "data": {
      "text/html": [
       "<div>\n",
       "<style scoped>\n",
       "    .dataframe tbody tr th:only-of-type {\n",
       "        vertical-align: middle;\n",
       "    }\n",
       "\n",
       "    .dataframe tbody tr th {\n",
       "        vertical-align: top;\n",
       "    }\n",
       "\n",
       "    .dataframe thead th {\n",
       "        text-align: right;\n",
       "    }\n",
       "</style>\n",
       "<table border=\"1\" class=\"dataframe\">\n",
       "  <thead>\n",
       "    <tr style=\"text-align: right;\">\n",
       "      <th></th>\n",
       "      <th>coffee</th>\n",
       "      <th>essence</th>\n",
       "      <th>of</th>\n",
       "      <th>starbucks</th>\n",
       "    </tr>\n",
       "  </thead>\n",
       "  <tbody>\n",
       "    <tr>\n",
       "      <th>Document 0</th>\n",
       "      <td>1</td>\n",
       "      <td>0</td>\n",
       "      <td>0</td>\n",
       "      <td>1</td>\n",
       "    </tr>\n",
       "    <tr>\n",
       "      <th>Document 1</th>\n",
       "      <td>1</td>\n",
       "      <td>1</td>\n",
       "      <td>1</td>\n",
       "      <td>0</td>\n",
       "    </tr>\n",
       "  </tbody>\n",
       "</table>\n",
       "</div>"
      ],
      "text/plain": [
       "            coffee  essence  of  starbucks\n",
       "Document 0       1        0   0          1\n",
       "Document 1       1        1   1          0"
      ]
     },
     "execution_count": 62,
     "metadata": {},
     "output_type": "execute_result"
    }
   ],
   "source": [
    "from sklearn.feature_extraction.text import CountVectorizer\n",
    "count_vect = CountVectorizer()\n",
    "Document1 = \"Starbucks Coffee\"\n",
    "Document2 = \"Essence of Coffee\"\n",
    "\n",
    "corpus = [Document1,Document2]\n",
    "\n",
    "X_train_counts = count_vect.fit_transform(corpus)\n",
    "\n",
    "pd.DataFrame(X_train_counts.toarray(),columns=count_vect.get_feature_names(),index=['Document 0','Document 1'])"
   ]
  },
  {
   "cell_type": "markdown",
   "metadata": {
    "colab_type": "text",
    "id": "W99LBHobSXE1"
   },
   "source": [
    "Now, we use a common frequency tool called TF-IDF to convert the vectors to unique measures."
   ]
  },
  {
   "cell_type": "code",
   "execution_count": 63,
   "metadata": {
    "colab": {},
    "colab_type": "code",
    "id": "mA52-mj9SXE1"
   },
   "outputs": [
    {
     "data": {
      "text/html": [
       "<div>\n",
       "<style scoped>\n",
       "    .dataframe tbody tr th:only-of-type {\n",
       "        vertical-align: middle;\n",
       "    }\n",
       "\n",
       "    .dataframe tbody tr th {\n",
       "        vertical-align: top;\n",
       "    }\n",
       "\n",
       "    .dataframe thead th {\n",
       "        text-align: right;\n",
       "    }\n",
       "</style>\n",
       "<table border=\"1\" class=\"dataframe\">\n",
       "  <thead>\n",
       "    <tr style=\"text-align: right;\">\n",
       "      <th></th>\n",
       "      <th>coffee</th>\n",
       "      <th>essence</th>\n",
       "      <th>of</th>\n",
       "      <th>starbucks</th>\n",
       "    </tr>\n",
       "  </thead>\n",
       "  <tbody>\n",
       "    <tr>\n",
       "      <th>Document 0</th>\n",
       "      <td>0.579739</td>\n",
       "      <td>0.000000</td>\n",
       "      <td>0.000000</td>\n",
       "      <td>0.814802</td>\n",
       "    </tr>\n",
       "    <tr>\n",
       "      <th>Document 1</th>\n",
       "      <td>0.449436</td>\n",
       "      <td>0.631667</td>\n",
       "      <td>0.631667</td>\n",
       "      <td>0.000000</td>\n",
       "    </tr>\n",
       "  </tbody>\n",
       "</table>\n",
       "</div>"
      ],
      "text/plain": [
       "              coffee   essence        of  starbucks\n",
       "Document 0  0.579739  0.000000  0.000000   0.814802\n",
       "Document 1  0.449436  0.631667  0.631667   0.000000"
      ]
     },
     "execution_count": 63,
     "metadata": {},
     "output_type": "execute_result"
    }
   ],
   "source": [
    "from sklearn.feature_extraction.text import TfidfVectorizer\n",
    "vectorizer = TfidfVectorizer()\n",
    "trsfm=vectorizer.fit_transform(corpus)\n",
    "pd.DataFrame(trsfm.toarray(),columns=vectorizer.get_feature_names(),index=['Document 0','Document 1'])"
   ]
  },
  {
   "cell_type": "markdown",
   "metadata": {
    "colab_type": "text",
    "id": "8T8ZOVnLSXE4"
   },
   "source": [
    "Here, we finally apply the __Cosine Similarity__ measure to calculate how similar Document 0 is compared to any other document in the corpus. Therefore, the first value of 1 is showing that the Document 0 is 100% similar to Document 0 and 0.26055576 is the similarity measure between Document 0 and Document 1."
   ]
  },
  {
   "cell_type": "code",
   "execution_count": 64,
   "metadata": {
    "colab": {},
    "colab_type": "code",
    "id": "ZLbYTQfnSXE4"
   },
   "outputs": [
    {
     "data": {
      "text/plain": [
       "array([[1.        , 0.26055567]])"
      ]
     },
     "execution_count": 64,
     "metadata": {},
     "output_type": "execute_result"
    }
   ],
   "source": [
    "cosine_similarity(trsfm[0:1], trsfm)"
   ]
  },
  {
   "cell_type": "markdown",
   "metadata": {
    "colab_type": "text",
    "id": "uSDf5EgJatlw"
   },
   "source": [
    "Replace the current values for `Document 0` and `Document 1` with your own sentence or paragraph and apply the same steps as we did in the above example."
   ]
  },
  {
   "cell_type": "markdown",
   "metadata": {
    "colab_type": "text",
    "id": "S9FESS0IbF9I"
   },
   "source": [
    " **<font color='teal'> Combine the documents into a corpus.</font>**"
   ]
  },
  {
   "cell_type": "code",
   "execution_count": 88,
   "metadata": {
    "colab": {},
    "colab_type": "code",
    "id": "7aVkjj-xczS-"
   },
   "outputs": [],
   "source": [
    "\n",
    "Document1 = \"\"\"Mahendra Singh Dhoni  born 7 July 1981, is a former Indian international cricketer who captained the Indian national team in limited-overs formats from 2007 to 2017 and in Test cricket from 2008 to 2014.\n",
    "Under his captaincy, India won the inaugural 2007 ICC World Twenty20, the 2010 and 2016 Asia Cups, the 2011 ICC Cricket World Cup and the 2013 ICC Champions Trophy.\n",
    "A right-handed middle-order batsman and wicket-keeper, Dhoni is one of the highest run scorers in One Day Internationals (ODIs) with more than 10,000 runs scored and is considered an effective \"finisher\" in limited-overs formats.\n",
    "He is widely regarded as one of the greatest wicket-keeper batsmen and captains in the history of the game. He was also the first wicket-keeper to effect 100 stumpings in ODI cricket.\n",
    "\"\"\"\n",
    "Document2 =\"\"\"Virat Kohli  born 5 November 1988 is an Indian cricketer and the current captain of the India national team.\n",
    "A right-handed top-order batsman, Kohli is regarded as one of the best contemporary batsmen in the world.\n",
    "He plays for Royal Challengers Bangalore in the Indian Premier League (IPL), and has been the team's captain since 2013.\n",
    "Kohli is consistently rated as one of the top-ranked batsmen in the world, according to the ICC Player Rankings.\n",
    "\"\"\"\n",
    "corpus = [Document1,Document2]\n",
    "\n"
   ]
  },
  {
   "cell_type": "markdown",
   "metadata": {
    "colab_type": "text",
    "id": "Bng2fLV_bR-V"
   },
   "source": [
    " **<font color='teal'> Apply the count vectorizer to the corpus to transform it into vectors.</font>**"
   ]
  },
  {
   "cell_type": "code",
   "execution_count": 89,
   "metadata": {
    "colab": {},
    "colab_type": "code",
    "id": "FtW2_TcJczuh"
   },
   "outputs": [],
   "source": [
    "from sklearn.feature_extraction.text import CountVectorizer\n",
    "count_vect = CountVectorizer()\n",
    "X_train_counts = count_vect.fit_transform(corpus)"
   ]
  },
  {
   "cell_type": "markdown",
   "metadata": {
    "colab_type": "text",
    "id": "55i9xWTYbc-r"
   },
   "source": [
    " **<font color='teal'> Convert the vector counts to a dataframe with Pandas.</font>**"
   ]
  },
  {
   "cell_type": "code",
   "execution_count": 90,
   "metadata": {
    "colab": {},
    "colab_type": "code",
    "id": "OaXsheskc0Ql"
   },
   "outputs": [
    {
     "data": {
      "text/html": [
       "<div>\n",
       "<style scoped>\n",
       "    .dataframe tbody tr th:only-of-type {\n",
       "        vertical-align: middle;\n",
       "    }\n",
       "\n",
       "    .dataframe tbody tr th {\n",
       "        vertical-align: top;\n",
       "    }\n",
       "\n",
       "    .dataframe thead th {\n",
       "        text-align: right;\n",
       "    }\n",
       "</style>\n",
       "<table border=\"1\" class=\"dataframe\">\n",
       "  <thead>\n",
       "    <tr style=\"text-align: right;\">\n",
       "      <th></th>\n",
       "      <th>000</th>\n",
       "      <th>10</th>\n",
       "      <th>100</th>\n",
       "      <th>1981</th>\n",
       "      <th>1988</th>\n",
       "      <th>2007</th>\n",
       "      <th>2008</th>\n",
       "      <th>2010</th>\n",
       "      <th>2011</th>\n",
       "      <th>2013</th>\n",
       "      <th>...</th>\n",
       "      <th>twenty20</th>\n",
       "      <th>under</th>\n",
       "      <th>virat</th>\n",
       "      <th>was</th>\n",
       "      <th>who</th>\n",
       "      <th>wicket</th>\n",
       "      <th>widely</th>\n",
       "      <th>with</th>\n",
       "      <th>won</th>\n",
       "      <th>world</th>\n",
       "    </tr>\n",
       "  </thead>\n",
       "  <tbody>\n",
       "    <tr>\n",
       "      <th>Document 0</th>\n",
       "      <td>1</td>\n",
       "      <td>1</td>\n",
       "      <td>1</td>\n",
       "      <td>1</td>\n",
       "      <td>0</td>\n",
       "      <td>2</td>\n",
       "      <td>1</td>\n",
       "      <td>1</td>\n",
       "      <td>1</td>\n",
       "      <td>1</td>\n",
       "      <td>...</td>\n",
       "      <td>1</td>\n",
       "      <td>1</td>\n",
       "      <td>0</td>\n",
       "      <td>1</td>\n",
       "      <td>1</td>\n",
       "      <td>3</td>\n",
       "      <td>1</td>\n",
       "      <td>1</td>\n",
       "      <td>1</td>\n",
       "      <td>2</td>\n",
       "    </tr>\n",
       "    <tr>\n",
       "      <th>Document 1</th>\n",
       "      <td>0</td>\n",
       "      <td>0</td>\n",
       "      <td>0</td>\n",
       "      <td>0</td>\n",
       "      <td>1</td>\n",
       "      <td>0</td>\n",
       "      <td>0</td>\n",
       "      <td>0</td>\n",
       "      <td>0</td>\n",
       "      <td>1</td>\n",
       "      <td>...</td>\n",
       "      <td>0</td>\n",
       "      <td>0</td>\n",
       "      <td>1</td>\n",
       "      <td>0</td>\n",
       "      <td>0</td>\n",
       "      <td>0</td>\n",
       "      <td>0</td>\n",
       "      <td>0</td>\n",
       "      <td>0</td>\n",
       "      <td>2</td>\n",
       "    </tr>\n",
       "  </tbody>\n",
       "</table>\n",
       "<p>2 rows × 115 columns</p>\n",
       "</div>"
      ],
      "text/plain": [
       "            000  10  100  1981  1988  2007  2008  2010  2011  2013  ...  \\\n",
       "Document 0    1   1    1     1     0     2     1     1     1     1  ...   \n",
       "Document 1    0   0    0     0     1     0     0     0     0     1  ...   \n",
       "\n",
       "            twenty20  under  virat  was  who  wicket  widely  with  won  world  \n",
       "Document 0         1      1      0    1    1       3       1     1    1      2  \n",
       "Document 1         0      0      1    0    0       0       0     0    0      2  \n",
       "\n",
       "[2 rows x 115 columns]"
      ]
     },
     "execution_count": 90,
     "metadata": {},
     "output_type": "execute_result"
    }
   ],
   "source": [
    "\n",
    "\n",
    "pd.DataFrame(X_train_counts.toarray(),columns=count_vect.get_feature_names(),index=['Document 0','Document 1'])"
   ]
  },
  {
   "cell_type": "markdown",
   "metadata": {
    "colab_type": "text",
    "id": "dONg4uupcJAK"
   },
   "source": [
    " **<font color='teal'> Apply TF-IDF to convert the vectors to unique frequency measures.</font>**"
   ]
  },
  {
   "cell_type": "code",
   "execution_count": 91,
   "metadata": {
    "colab": {},
    "colab_type": "code",
    "id": "o2z2p_kMc1mF"
   },
   "outputs": [
    {
     "data": {
      "text/html": [
       "<div>\n",
       "<style scoped>\n",
       "    .dataframe tbody tr th:only-of-type {\n",
       "        vertical-align: middle;\n",
       "    }\n",
       "\n",
       "    .dataframe tbody tr th {\n",
       "        vertical-align: top;\n",
       "    }\n",
       "\n",
       "    .dataframe thead th {\n",
       "        text-align: right;\n",
       "    }\n",
       "</style>\n",
       "<table border=\"1\" class=\"dataframe\">\n",
       "  <thead>\n",
       "    <tr style=\"text-align: right;\">\n",
       "      <th></th>\n",
       "      <th>000</th>\n",
       "      <th>10</th>\n",
       "      <th>100</th>\n",
       "      <th>1981</th>\n",
       "      <th>1988</th>\n",
       "      <th>2007</th>\n",
       "      <th>2008</th>\n",
       "      <th>2010</th>\n",
       "      <th>2011</th>\n",
       "      <th>2013</th>\n",
       "      <th>...</th>\n",
       "      <th>twenty20</th>\n",
       "      <th>under</th>\n",
       "      <th>virat</th>\n",
       "      <th>was</th>\n",
       "      <th>who</th>\n",
       "      <th>wicket</th>\n",
       "      <th>widely</th>\n",
       "      <th>with</th>\n",
       "      <th>won</th>\n",
       "      <th>world</th>\n",
       "    </tr>\n",
       "  </thead>\n",
       "  <tbody>\n",
       "    <tr>\n",
       "      <th>Document 0</th>\n",
       "      <td>0.065574</td>\n",
       "      <td>0.065574</td>\n",
       "      <td>0.065574</td>\n",
       "      <td>0.065574</td>\n",
       "      <td>0.000000</td>\n",
       "      <td>0.131148</td>\n",
       "      <td>0.065574</td>\n",
       "      <td>0.065574</td>\n",
       "      <td>0.065574</td>\n",
       "      <td>0.046656</td>\n",
       "      <td>...</td>\n",
       "      <td>0.065574</td>\n",
       "      <td>0.065574</td>\n",
       "      <td>0.000000</td>\n",
       "      <td>0.065574</td>\n",
       "      <td>0.065574</td>\n",
       "      <td>0.196722</td>\n",
       "      <td>0.065574</td>\n",
       "      <td>0.065574</td>\n",
       "      <td>0.065574</td>\n",
       "      <td>0.093313</td>\n",
       "    </tr>\n",
       "    <tr>\n",
       "      <th>Document 1</th>\n",
       "      <td>0.000000</td>\n",
       "      <td>0.000000</td>\n",
       "      <td>0.000000</td>\n",
       "      <td>0.000000</td>\n",
       "      <td>0.092873</td>\n",
       "      <td>0.000000</td>\n",
       "      <td>0.000000</td>\n",
       "      <td>0.000000</td>\n",
       "      <td>0.000000</td>\n",
       "      <td>0.066080</td>\n",
       "      <td>...</td>\n",
       "      <td>0.000000</td>\n",
       "      <td>0.000000</td>\n",
       "      <td>0.092873</td>\n",
       "      <td>0.000000</td>\n",
       "      <td>0.000000</td>\n",
       "      <td>0.000000</td>\n",
       "      <td>0.000000</td>\n",
       "      <td>0.000000</td>\n",
       "      <td>0.000000</td>\n",
       "      <td>0.132160</td>\n",
       "    </tr>\n",
       "  </tbody>\n",
       "</table>\n",
       "<p>2 rows × 115 columns</p>\n",
       "</div>"
      ],
      "text/plain": [
       "                 000        10       100      1981      1988      2007  \\\n",
       "Document 0  0.065574  0.065574  0.065574  0.065574  0.000000  0.131148   \n",
       "Document 1  0.000000  0.000000  0.000000  0.000000  0.092873  0.000000   \n",
       "\n",
       "                2008      2010      2011      2013  ...  twenty20     under  \\\n",
       "Document 0  0.065574  0.065574  0.065574  0.046656  ...  0.065574  0.065574   \n",
       "Document 1  0.000000  0.000000  0.000000  0.066080  ...  0.000000  0.000000   \n",
       "\n",
       "               virat       was       who    wicket    widely      with  \\\n",
       "Document 0  0.000000  0.065574  0.065574  0.196722  0.065574  0.065574   \n",
       "Document 1  0.092873  0.000000  0.000000  0.000000  0.000000  0.000000   \n",
       "\n",
       "                 won     world  \n",
       "Document 0  0.065574  0.093313  \n",
       "Document 1  0.000000  0.132160  \n",
       "\n",
       "[2 rows x 115 columns]"
      ]
     },
     "execution_count": 91,
     "metadata": {},
     "output_type": "execute_result"
    }
   ],
   "source": [
    "from sklearn.feature_extraction.text import TfidfVectorizer\n",
    "vectorizer = TfidfVectorizer()\n",
    "trsfm=vectorizer.fit_transform(corpus)\n",
    "pd.DataFrame(trsfm.toarray(),columns=vectorizer.get_feature_names(),index=['Document 0','Document 1'])"
   ]
  },
  {
   "cell_type": "markdown",
   "metadata": {
    "colab_type": "text",
    "id": "wd1JHVSxcl1D"
   },
   "source": [
    " **<font color='teal'> Use the cosine similarity function to get measures of similarity for the sentences or paragraphs in your original document.</font>**"
   ]
  },
  {
   "cell_type": "code",
   "execution_count": 92,
   "metadata": {
    "colab": {},
    "colab_type": "code",
    "id": "sJdk5sX5bcPO"
   },
   "outputs": [
    {
     "data": {
      "text/plain": [
       "array([[1.        , 0.55494975]])"
      ]
     },
     "execution_count": 92,
     "metadata": {},
     "output_type": "execute_result"
    }
   ],
   "source": [
    "cosine_similarity(trsfm[0:1], trsfm)"
   ]
  },
  {
   "cell_type": "code",
   "execution_count": null,
   "metadata": {},
   "outputs": [],
   "source": []
  },
  {
   "cell_type": "code",
   "execution_count": null,
   "metadata": {},
   "outputs": [],
   "source": []
  },
  {
   "cell_type": "code",
   "execution_count": null,
   "metadata": {},
   "outputs": [],
   "source": []
  }
 ],
 "metadata": {
  "anaconda-cloud": {},
  "colab": {
   "name": "Cosine Similarity.ipynb",
   "provenance": []
  },
  "kernelspec": {
   "display_name": "Python 3",
   "language": "python",
   "name": "python3"
  },
  "language_info": {
   "codemirror_mode": {
    "name": "ipython",
    "version": 3
   },
   "file_extension": ".py",
   "mimetype": "text/x-python",
   "name": "python",
   "nbconvert_exporter": "python",
   "pygments_lexer": "ipython3",
   "version": "3.7.6"
  }
 },
 "nbformat": 4,
 "nbformat_minor": 1
}
